{
 "cells": [
  {
   "cell_type": "code",
   "execution_count": null,
   "source": [
    "!pip install cpfinder"
   ],
   "outputs": [],
   "metadata": {}
  },
  {
   "cell_type": "code",
   "execution_count": null,
   "source": [
    "from cpfinder import cpfinder\n",
    "from cpfinder.datasets import generate_normal_time_series\n",
    "\n",
    "data = generate_normal_time_series(3)\n",
    "detector = cpfinder(data=data, method=\"bocpd\")\n",
    "detector.fit(animationFlag=False, interval=100, plotFlag=True)"
   ],
   "outputs": [],
   "metadata": {}
  }
 ],
 "metadata": {
  "orig_nbformat": 4,
  "language_info": {
   "name": "python"
  }
 },
 "nbformat": 4,
 "nbformat_minor": 2
}